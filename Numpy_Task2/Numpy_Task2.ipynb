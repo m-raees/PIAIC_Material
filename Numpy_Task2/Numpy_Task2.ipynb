{
 "cells": [
  {
   "cell_type": "markdown",
   "metadata": {},
   "source": [
    "# CrunchieMunchies\n",
    "\n",
    "You work in marketing for a food company <b>myCorps</b>, which is developing a new kind of tasty, wholesome cereal called <b>CrunchieMunchies</b>. \n",
    "\n",
    "You want to demonstrate to consumers how healthy your cereal is in comparison to other leading brands, so you’ve dug up nutritional data on several different competitors.\n",
    "\n",
    "Your task is to use <em>NumPy statistical calculations</em> to analyze this data and prove that your <b>CrunchieMunchies</b> is the healthiest choice for consumers.\n",
    "\n",
    "\n",
    "\n",
    "\n"
   ]
  },
  {
   "cell_type": "markdown",
   "metadata": {},
   "source": [
    "# Task STEPS\n"
   ]
  },
  {
   "cell_type": "markdown",
   "metadata": {},
   "source": [
    "1.First, import numpy."
   ]
  },
  {
   "cell_type": "code",
   "execution_count": 1,
   "metadata": {},
   "outputs": [],
   "source": [
    "# your code goes here\n",
    "import numpy as np"
   ]
  },
  {
   "cell_type": "markdown",
   "metadata": {},
   "source": [
    "2.Look over the <b><em>cereal.csv</em></b> file. This file contains the reported calorie amounts for different cereal brands. Load the data from the file and save it as <b><em>calorie_stats.</em></b>\n",
    "\n"
   ]
  },
  {
   "cell_type": "code",
   "execution_count": 2,
   "metadata": {},
   "outputs": [
    {
     "name": "stdout",
     "output_type": "stream",
     "text": [
      "[ 70. 120.  70.  50. 110. 110. 110. 130.  90.  90. 120. 110. 120. 110.\n",
      " 110. 110. 100. 110. 110. 110. 100. 110. 100. 100. 110. 110. 100. 120.\n",
      " 120. 110. 100. 110. 100. 110. 120. 120. 110. 110. 110. 140. 110. 100.\n",
      " 110. 100. 150. 150. 160. 100. 120. 140.  90. 130. 120. 100.  50.  50.\n",
      " 100. 100. 120. 100.  90. 110. 110.  80.  90.  90. 110. 110.  90. 110.\n",
      " 140. 100. 110. 110. 100. 100. 110.]\n"
     ]
    }
   ],
   "source": [
    "# your code goes here\n",
    "from numpy import genfromtxt\n",
    "calorie_stats = genfromtxt('cereal.csv', delimiter=',')\n",
    "print(calorie_stats)"
   ]
  },
  {
   "cell_type": "markdown",
   "metadata": {},
   "source": [
    "3.There are <em>60 calories per serving of CrunchieMunchies</em>. How much <b>higher</b> is the <b>average calorie count</b> of your competition?\n",
    "\n",
    "Save the answer to the variable <b>average_calories</b> and print the variable to the terminal to see the answer.\n"
   ]
  },
  {
   "cell_type": "code",
   "execution_count": 3,
   "metadata": {},
   "outputs": [
    {
     "data": {
      "text/plain": [
       "106.88311688311688"
      ]
     },
     "execution_count": 3,
     "metadata": {},
     "output_type": "execute_result"
    }
   ],
   "source": [
    "# your code goes here\n",
    "average_calories=np.mean(calorie_stats)\n",
    "average_calories"
   ]
  },
  {
   "cell_type": "markdown",
   "metadata": {},
   "source": [
    "4.Does the <b>average calorie count</b> adequately reflect the distribution of the dataset? Let’s sort the data and see.\n",
    "\n",
    "<b><em>Sort</em></b> the data and save the result to the variable <b>calorie_stats_sorted</b>. Print the sorted data to the terminal.\n"
   ]
  },
  {
   "cell_type": "code",
   "execution_count": 4,
   "metadata": {},
   "outputs": [
    {
     "data": {
      "text/plain": [
       "array([ 50.,  50.,  50.,  70.,  70.,  80.,  90.,  90.,  90.,  90.,  90.,\n",
       "        90.,  90., 100., 100., 100., 100., 100., 100., 100., 100., 100.,\n",
       "       100., 100., 100., 100., 100., 100., 100., 100., 110., 110., 110.,\n",
       "       110., 110., 110., 110., 110., 110., 110., 110., 110., 110., 110.,\n",
       "       110., 110., 110., 110., 110., 110., 110., 110., 110., 110., 110.,\n",
       "       110., 110., 110., 110., 120., 120., 120., 120., 120., 120., 120.,\n",
       "       120., 120., 120., 130., 130., 140., 140., 140., 150., 150., 160.])"
      ]
     },
     "execution_count": 4,
     "metadata": {},
     "output_type": "execute_result"
    }
   ],
   "source": [
    "# your code goes here\n",
    "calorie_stats_sorted=np.sort(calorie_stats)\n",
    "calorie_stats_sorted"
   ]
  },
  {
   "cell_type": "markdown",
   "metadata": {},
   "source": [
    "5.Do you see what I’m seeing? Looks like <b><em>the majority of the cereals are higher than the mean</em></b>. Let’s see if the <b>median</b> is a better representative of the dataset.\n",
    "\n",
    "Calculate the median of the dataset and save your answer to <b><em >median_calories</em></b>. Print the median so you can see how it compares to the mean."
   ]
  },
  {
   "cell_type": "code",
   "execution_count": 5,
   "metadata": {},
   "outputs": [
    {
     "data": {
      "text/plain": [
       "110.0"
      ]
     },
     "execution_count": 5,
     "metadata": {},
     "output_type": "execute_result"
    }
   ],
   "source": [
    "# your code goes here\n",
    "median_calories=np.median(calorie_stats)\n",
    "median_calories\n"
   ]
  },
  {
   "cell_type": "markdown",
   "metadata": {},
   "source": [
    "6.While the median demonstrates that <b><em><q>at least half of our values are over 100 calories</q></em></b>, it would be more impressive to show that a significant portion of the competition has a higher calorie count that CrunchieMunchies.\n",
    "\n",
    "<b>Calculate different percentiles</b> and print them to the terminal until you find the lowest percentile that is greater than 60 calories. Save this value to the variable <b>nth_percentile</b>.\n"
   ]
  },
  {
   "cell_type": "code",
   "execution_count": 6,
   "metadata": {},
   "outputs": [
    {
     "name": "stdout",
     "output_type": "stream",
     "text": [
      "90th percentile value = 124.00000000000006\n",
      "80th percentile value = 120.0\n",
      "70th percentile value = 110.0\n",
      "60th percentile value = 110.0\n",
      "50th percentile value = 110.0\n",
      "40th percentile value = 110.0\n",
      "30th percentile value = 100.0\n",
      "20th percentile value = 100.0\n",
      "10th percentile value = 90.0\n",
      "5th percentile value = 70.0\n",
      "2.5th percentile value = 50.0\n",
      "4th percentile value = 70.0\n",
      "3.5th percentile value = 63.2\n",
      "3.25th percentile value = 59.400000000000006\n",
      "3.37th percentile value = 61.224\n",
      "3.31th percentile value = 60.31199999999999\n",
      "3.28th percentile value = 59.856\n",
      "3.30th percentile value = 60.160000000000004\n",
      "3.29th percentile value = 60.008\n",
      "nth percentile  =  60.008\n"
     ]
    }
   ],
   "source": [
    "# your code goes here\n",
    "print(\"90th percentile value = {}\".format(np.percentile(calorie_stats, 90)))\n",
    "print(\"80th percentile value = {}\".format(np.percentile(calorie_stats, 80)))\n",
    "print(\"70th percentile value = {}\".format(np.percentile(calorie_stats, 70)))\n",
    "print(\"60th percentile value = {}\".format(np.percentile(calorie_stats, 60)))\n",
    "print(\"50th percentile value = {}\".format(np.percentile(calorie_stats, 50)))\n",
    "print(\"40th percentile value = {}\".format(np.percentile(calorie_stats, 40)))\n",
    "print(\"30th percentile value = {}\".format(np.percentile(calorie_stats, 30)))\n",
    "print(\"20th percentile value = {}\".format(np.percentile(calorie_stats, 20)))\n",
    "print(\"10th percentile value = {}\".format(np.percentile(calorie_stats, 10)))\n",
    "print(\"5th percentile value = {}\".format(np.percentile(calorie_stats, 5)))\n",
    "print(\"2.5th percentile value = {}\".format(np.percentile(calorie_stats, 2.5)))\n",
    "print(\"4th percentile value = {}\".format(np.percentile(calorie_stats, 4)))\n",
    "print(\"3.5th percentile value = {}\".format(np.percentile(calorie_stats, 3.5)))\n",
    "print(\"3.25th percentile value = {}\".format(np.percentile(calorie_stats, 3.25)))\n",
    "print(\"3.37th percentile value = {}\".format(np.percentile(calorie_stats, 3.37)))\n",
    "print(\"3.31th percentile value = {}\".format(np.percentile(calorie_stats, 3.31)))\n",
    "print(\"3.28th percentile value = {}\".format(np.percentile(calorie_stats, 3.28)))\n",
    "print(\"3.30th percentile value = {}\".format(np.percentile(calorie_stats, 3.30)))\n",
    "print(\"3.29th percentile value = {}\".format(np.percentile(calorie_stats, 3.29)))\n",
    "nth_percentile=np.percentile(calorie_stats, 3.29)\n",
    "print(\"nth percentile  =  {}\".format(nth_percentile))"
   ]
  },
  {
   "cell_type": "markdown",
   "metadata": {},
   "source": [
    "7.While the percentile shows us that<b><em><q>the majority of the competition has a much higher calorie count</q></em></b>, it’s an awkward concept to use in marketing materials.\n",
    "\n",
    "Instead, let’s calculate the percentage of cereals that <b><em><q>have more than 60 calories per serving</q></em></b>. Save your answer to the variable <b><em>more_calories</em></b> and print it to the terminal"
   ]
  },
  {
   "cell_type": "code",
   "execution_count": 7,
   "metadata": {},
   "outputs": [
    {
     "name": "stdout",
     "output_type": "stream",
     "text": [
      "percentage of having more than 60 calories per serving  =  96.10\n"
     ]
    }
   ],
   "source": [
    "# your code goes here\n",
    "greater_calories_sixty = calorie_stats[calorie_stats > 60]\n",
    "more_calories=((greater_calories_sixty.shape[0]/calorie_stats.shape[0])*100)\n",
    "print(\"percentage of having more than 60 calories per serving  =  {:.2f}\".format(more_calories))"
   ]
  },
  {
   "cell_type": "markdown",
   "metadata": {},
   "source": [
    "8.Wow! That’s a really high percentage. That’s going to be very useful when we promote CrunchieMunchies. But one question is, <b><em>how much variation exists in the dataset? </b></em></q>Can we make the generalization that most cereals have around 100 calories or is the spread even greater?\n",
    "\n",
    "Calculate the amount of variation by finding the <b><em>standard deviation</em</b> Save your answer to <b><em>calorie_std</em></b> and print to the terminal. How can we incorporate this value into our analysis?"
   ]
  },
  {
   "cell_type": "code",
   "execution_count": 9,
   "metadata": {},
   "outputs": [
    {
     "name": "stdout",
     "output_type": "stream",
     "text": [
      "Standard deviation = 374.70062405127345\n"
     ]
    }
   ],
   "source": [
    "# your code goes here\n",
    "\n",
    "calorie_stats_std=np.var(calorie_stats)\n",
    "print(\"Standard deviation = {}\".format(calorie_stats_std))"
   ]
  },
  {
   "cell_type": "markdown",
   "metadata": {},
   "source": [
    "9.Write a short paragraph that sums up your findings and how you think this data could be used to \n",
    "<b>myCorp’s</b> advantage when marketing CrunchieMunchies.\n"
   ]
  },
  {
   "cell_type": "markdown",
   "metadata": {},
   "source": [
    "# Conclusion"
   ]
  },
  {
   "cell_type": "markdown",
   "metadata": {},
   "source": [
    "According to the finding as the most of the time cereal good at or greater than median=100. As given dataset having good quality calories in the cereals. Also there is greater dispersion in the dataset and only 3rd percentile are less than 60. In addition there is also good percentage 96.10 of more than 60 calories in the cereals. In data analysis some time values are misguiding then we use the median instead of mean. In this case, Mean and Median are nearly equal to each other and hence the less chance of greater outlier in this cereails. so we are recommended for marketing these cereals for CruncgieMunchies.  "
   ]
  }
 ],
 "metadata": {
  "kernelspec": {
   "display_name": "Python 3",
   "language": "python",
   "name": "python3"
  },
  "language_info": {
   "codemirror_mode": {
    "name": "ipython",
    "version": 3
   },
   "file_extension": ".py",
   "mimetype": "text/x-python",
   "name": "python",
   "nbconvert_exporter": "python",
   "pygments_lexer": "ipython3",
   "version": "3.7.7"
  }
 },
 "nbformat": 4,
 "nbformat_minor": 2
}
