{
 "cells": [
  {
   "cell_type": "markdown",
   "metadata": {},
   "source": [
    "# Election Results\n",
    "\n",
    "You’re part of an impartial research group that conducts phone surveys prior to local elections. During this election season, the group conducted a survey to determine how many people would vote for I_Khan vs. S_Sharif in the presidential election.\n",
    "\n",
    "Now that the election has occurred, your group wants to compare the survey responses to the actual results.\n",
    "\n",
    "Was your survey a good indicator? Let’s find out!"
   ]
  },
  {
   "cell_type": "markdown",
   "metadata": {},
   "source": [
    "# PROJECT STEPS"
   ]
  },
  {
   "cell_type": "markdown",
   "metadata": {},
   "source": [
    "1.First, import numpy and matplotlib."
   ]
  },
  {
   "cell_type": "code",
   "execution_count": 1,
   "metadata": {},
   "outputs": [],
   "source": [
    "#type your code here\n",
    "%matplotlib inline\n",
    "\n",
    "import matplotlib\n",
    "import numpy as np\n",
    "import matplotlib.pyplot as plt"
   ]
  },
  {
   "cell_type": "markdown",
   "metadata": {},
   "source": [
    "2.There is a list given of the different survey responses.\n",
    "\n",
    "Calculate the number of people who answered ‘I_Khan’ and save the answer to the variable total_Khan.\n",
    "\n",
    "Print the variable to the terminal to see its value."
   ]
  },
  {
   "cell_type": "code",
   "execution_count": 2,
   "metadata": {},
   "outputs": [
    {
     "name": "stdout",
     "output_type": "stream",
     "text": [
      "Total number of Imran Khan Count =  33\n"
     ]
    }
   ],
   "source": [
    "survey_responses = ['I_Khan', 'S_Sharif', 'I_Khan', 'I_Khan', 'I_Khan','S_Sharif',\n",
    "                    'S_Sharif', 'I_Khan', 'I_Khan', 'I_Khan', 'S_Sharif', 'S_Sharif',\n",
    "                    'I_Khan', 'I_Khan', 'S_Sharif', 'S_Sharif','I_Khan', 'I_Khan', \n",
    "                    'S_Sharif', 'S_Sharif', 'S_Sharif', 'S_Sharif', 'S_Sharif', 'S_Sharif', \n",
    "                    'I_Khan', 'I_Khan', 'I_Khan', 'I_Khan', 'I_Khan', 'I_Khan',\n",
    "                    'S_Sharif', 'S_Sharif', 'I_Khan', 'I_Khan', 'I_Khan', 'S_Sharif',\n",
    "                    'S_Sharif', 'I_Khan', 'I_Khan', 'S_Sharif', 'S_Sharif', 'I_Khan', \n",
    "                    'I_Khan', 'S_Sharif', 'S_Sharif', 'S_Sharif', 'S_Sharif', 'S_Sharif',\n",
    "                    'S_Sharif', 'I_Khan','S_Sharif', 'S_Sharif', 'I_Khan', 'I_Khan', \n",
    "                    'I_Khan', 'S_Sharif', 'S_Sharif', 'I_Khan', 'I_Khan', 'S_Sharif', \n",
    "                    'S_Sharif', 'I_Khan', 'I_Khan', 'S_Sharif', 'S_Sharif', 'S_Sharif', \n",
    "                    'S_Sharif', 'S_Sharif', 'S_Sharif', 'I_Khan']\n",
    "\n",
    "total_Khan=survey_responses.count(\"I_Khan\")\n",
    "print(\"Total number of Imran Khan Count =  {}\".format(total_Khan))"
   ]
  },
  {
   "cell_type": "markdown",
   "metadata": {},
   "source": [
    "3.Calculate the percentage of people in the survey who voted for I_Khan and save it to the variable percentage_I_Khan.\n",
    "\n",
    "Print the variable to the terminal to see its value."
   ]
  },
  {
   "cell_type": "code",
   "execution_count": 3,
   "metadata": {},
   "outputs": [
    {
     "name": "stdout",
     "output_type": "stream",
     "text": [
      "Percentage of people voting to imran khan = 47.14\n"
     ]
    }
   ],
   "source": [
    "#type your code here\n",
    "percentage_I_Khan=(total_Khan/len(survey_responses)*100)\n",
    "print(\"Percentage of people voting to imran khan = {:.2f}\".format(percentage_I_Khan))"
   ]
  },
  {
   "cell_type": "markdown",
   "metadata": {},
   "source": [
    "4.In the real election, 54% of the 10,000 town population voted for I_Khan. Your supervisors are concerned because this is a very different outcome than what the poll predicted. They want you to determine if there is something wrong with the poll or if given the sample size, it was an entirely reasonable result.\n",
    "\n",
    "Generate a binomial distribution that takes the number of total survey responses, the actual success rate, and the size of the town’s population as its parameters. Then divide the distribution by the number of survey responses. Save your calculation to the variable possible_surveys.\n",
    "\n",
    "######### hint###########\n",
    "possible_surveys = \n",
    "np.random.binomial(total of survey responses, the actual success rate,and the size of the town’s population ) "
   ]
  },
  {
   "cell_type": "code",
   "execution_count": 4,
   "metadata": {},
   "outputs": [
    {
     "name": "stdout",
     "output_type": "stream",
     "text": [
      "(10000,)\n"
     ]
    }
   ],
   "source": [
    "#type your code here\n",
    "possible_surveys = np.random.binomial(len(survey_responses),0.54,10000)/len(survey_responses)\n",
    "print(possible_surveys.shape)\n"
   ]
  },
  {
   "cell_type": "markdown",
   "metadata": {},
   "source": [
    "\n",
    "      #######Optional########\n",
    "5.By using matplotlib Plot a histogram of possible_surveys with a range of 0-1 and 20 bins.\n"
   ]
  },
  {
   "cell_type": "code",
   "execution_count": 5,
   "metadata": {},
   "outputs": [
    {
     "data": {
      "image/png": "[encoded data removed]",
      "text/plain": [
       "<Figure size 432x288 with 1 Axes>"
      ]
     },
     "metadata": {
      "needs_background": "light"
     },
     "output_type": "display_data"
    }
   ],
   "source": [
    "#type your code here\n",
    "plt.hist(possible_surveys, bins = 20)\n",
    "plt.show()"
   ]
  },
  {
   "cell_type": "markdown",
   "metadata": {},
   "source": [
    "6.As we saw, 47% of people we surveyed said they would vote for I_Khan, but 54% of people voted for I_Khan in the actual election.\n",
    "\n",
    "Calculate the percentage of surveys that could have an outcome of I_Khan receiving less than 50% of the vote and save it to the variable I_Khan_loss_surveys.\n",
    "\n",
    "Print the variable to the terminal."
   ]
  },
  {
   "cell_type": "code",
   "execution_count": 6,
   "metadata": {},
   "outputs": [
    {
     "name": "stdout",
     "output_type": "stream",
     "text": [
      "percentage of surveys that could have an outcome of I_Khan receiving less than 50% = 21.75\n"
     ]
    }
   ],
   "source": [
    "#type your code here\n",
    "I_Khan_loss_surveys=(possible_surveys[possible_surveys<0.50].shape[0]/possible_surveys.shape[0])*100\n",
    "print(\"percentage of surveys that could have an outcome of I_Khan receiving less than 50% = {:.2f}\".format(I_Khan_loss_surveys))"
   ]
  },
  {
   "cell_type": "markdown",
   "metadata": {},
   "source": [
    "7.With this current poll, about 20% of the time a survey output would predict S_Sharif winning, even if I_Khan won the actual election.\n",
    "\n",
    "Your co-worker points out that your poll would be more accurate if it had more responders.\n",
    "\n",
    "Generate another binomial distribution, but this time, see what would happen if you had instead surveyed 7,000 people. Divide the distribution by the size of the survey and save your findings to large_survey.\n"
   ]
  },
  {
   "cell_type": "code",
   "execution_count": 7,
   "metadata": {},
   "outputs": [
    {
     "name": "stdout",
     "output_type": "stream",
     "text": [
      "(7000,)\n"
     ]
    }
   ],
   "source": [
    "#type your code here\n",
    "large_survey=np.random.binomial(len(survey_responses),0.54,7000)/len(survey_responses)\n",
    "print(large_survey.shape)"
   ]
  },
  {
   "cell_type": "markdown",
   "metadata": {},
   "source": [
    "8.Now, recalculate the percentage of surveys that would have an outcome of I_Khan losing and save it to the variable I_Khan_loss_new, and print the value to the terminal.\n",
    "\n",
    "What do we notice about this new value?\n",
    "\n",
    "What advice would you give to your supervisors about predicting results from surveys?\n"
   ]
  },
  {
   "cell_type": "code",
   "execution_count": 8,
   "metadata": {},
   "outputs": [
    {
     "name": "stdout",
     "output_type": "stream",
     "text": [
      "percentage of surveys that could have an outcome of I_Khan receiving less than 50% = 22.00\n"
     ]
    }
   ],
   "source": [
    "#type your code here\n",
    "I_Khan_loss_new=(large_survey[large_survey<0.50].shape[0]/large_survey.shape[0])*100\n",
    "print(\"percentage of surveys that could have an outcome of I_Khan receiving less than 50% = {:.2f}\".format(I_Khan_loss_new))"
   ]
  },
  {
   "cell_type": "markdown",
   "metadata": {},
   "source": [
    "Noe the percentage becomes about 22% showing the winning probability of the S_Sharif.even though imran khan winning the acutal election"
   ]
  },
  {
   "cell_type": "markdown",
   "metadata": {},
   "source": [
    "## Results"
   ]
  },
  {
   "cell_type": "markdown",
   "metadata": {},
   "source": [
    "Results shows after using two different binomial distribution, that the imran khan will become winner when we choose more than 50% of the time. because winning probability of imran khan is prob[I_Khan]= 1-Prob[I_khan<50]. now according to the assesment when taken from 10,000 or 7,000 random points that imran khan has lossing probability about 20 to 22% respectively so in current scenario imran khan will becomes winning election according to the votes using random binomial distribution."
   ]
  }
 ],
 "metadata": {
  "kernelspec": {
   "display_name": "Python 3",
   "language": "python",
   "name": "python3"
  },
  "language_info": {
   "codemirror_mode": {
    "name": "ipython",
    "version": 3
   },
   "file_extension": ".py",
   "mimetype": "text/x-python",
   "name": "python",
   "nbconvert_exporter": "python",
   "pygments_lexer": "ipython3",
   "version": "3.7.7"
  }
 },
 "nbformat": 4,
 "nbformat_minor": 2
}
