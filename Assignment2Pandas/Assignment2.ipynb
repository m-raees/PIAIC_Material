{
 "cells": [
  {
   "cell_type": "markdown",
   "id": "attached-essay",
   "metadata": {},
   "source": [
    "# All of my dataset is in \"Dataset\" Directory\n",
    "# Part 1\n",
    "## Data cleaning on US Census Dataset\n",
    "\n"
   ]
  },
  {
   "cell_type": "markdown",
   "id": "crazy-cooling",
   "metadata": {},
   "source": [
    "### 1.    scatterplot that shows average income in a state vs proportion of women in that state."
   ]
  },
  {
   "cell_type": "code",
   "execution_count": 17,
   "id": "cooperative-projector",
   "metadata": {},
   "outputs": [
    {
     "data": {
      "image/png": "[encoded data removed]",
      "text/plain": [
       "<Figure size 432x288 with 1 Axes>"
      ]
     },
     "metadata": {
      "needs_background": "light"
     },
     "output_type": "display_data"
    }
   ],
   "source": [
    "import numpy as np\n",
    "import matplotlib.pyplot as plt\n",
    "import pandas as pd\n",
    "\n",
    "# try for one state\n",
    "df_state0=pd.read_csv(\"states0.csv\")\n",
    "\n",
    "df_state0['Income'] = df_state0.apply(lambda x:x['Income'].replace(',',''),axis=1)\n",
    "df_state0['Income'] = df_state0.apply(lambda x:float(x['Income'].replace('$','')),axis=1)\n",
    "Income=df_state0.Income\n",
    "\n",
    "df_state0['GenderPop']=df_state0.apply(lambda x: x['GenderPop'].split('_')[1],axis=1)\n",
    "women_Pop=df_state0.apply(lambda x: int(x['GenderPop'].replace('F', '')),axis=1)\n",
    "plt.scatter(Income, women_Pop)\n",
    "plt.title('Scatter Plot')\n",
    "plt.show()"
   ]
  },
  {
   "cell_type": "markdown",
   "id": "bound-southeast",
   "metadata": {},
   "source": [
    "#### As the above plot was did on a single csv file so it is better import first all dataset and then do this process on all states "
   ]
  },
  {
   "cell_type": "markdown",
   "id": "analyzed-monday",
   "metadata": {},
   "source": [
    "### 2. Reading Csv Files concat using glob"
   ]
  },
  {
   "cell_type": "code",
   "execution_count": 3,
   "id": "passive-robertson",
   "metadata": {},
   "outputs": [
    {
     "name": "stdout",
     "output_type": "stream",
     "text": [
      "\n",
      "Dimension of US Census Dataset = (60, 11)\n"
     ]
    }
   ],
   "source": [
    "import glob\n",
    "\n",
    "path = \"Dataset/\"\n",
    "all_files = glob.glob(path + \"/*.csv\")\n",
    "\n",
    "li = []\n",
    "\n",
    "for filename in all_files:\n",
    "    if \"state\" in filename:\n",
    "        df = pd.read_csv(filename, index_col=None, header=0)\n",
    "        li.append(df)\n",
    "\n",
    "us_census_DF = pd.concat(li, axis=0, ignore_index=True)\n",
    "print(\"\\nDimension of US Census Dataset = {}\".format(us_census_DF.shape))"
   ]
  },
  {
   "cell_type": "markdown",
   "id": "ranging-destination",
   "metadata": {},
   "source": [
    "### 3. Looking at the .columns and the .dtypes"
   ]
  },
  {
   "cell_type": "code",
   "execution_count": 4,
   "id": "closed-computer",
   "metadata": {},
   "outputs": [
    {
     "name": "stdout",
     "output_type": "stream",
     "text": [
      "\n",
      "States DataFrame columns = \n",
      "Index(['Unnamed: 0', 'State', 'TotalPop', 'Hispanic', 'White', 'Black',\n",
      "       'Native', 'Asian', 'Pacific', 'Income', 'GenderPop'],\n",
      "      dtype='object') \n",
      "\n",
      "\n",
      "Data Type of DataFrame = \n",
      "Unnamed: 0     int64\n",
      "State         object\n",
      "TotalPop       int64\n",
      "Hispanic      object\n",
      "White         object\n",
      "Black         object\n",
      "Native        object\n",
      "Asian         object\n",
      "Pacific       object\n",
      "Income        object\n",
      "GenderPop     object\n",
      "dtype: object\n"
     ]
    }
   ],
   "source": [
    "print(\"\\nStates DataFrame columns = \\n{} \".format(us_census_DF.columns))\n",
    "print(\"\\n\\nData Type of DataFrame = \\n{}\".format(us_census_DF.dtypes))"
   ]
  },
  {
   "cell_type": "markdown",
   "id": "private-screen",
   "metadata": {},
   "source": [
    "#### For histogram we need numerical data so first we have to do preprocessing of the dataset"
   ]
  },
  {
   "cell_type": "markdown",
   "id": "broke-belize",
   "metadata": {},
   "source": [
    "### 4. Showing dataframe using head\n"
   ]
  },
  {
   "cell_type": "code",
   "execution_count": 5,
   "id": "western-fantasy",
   "metadata": {},
   "outputs": [
    {
     "name": "stdout",
     "output_type": "stream",
     "text": [
      "   Unnamed: 0           State  TotalPop             Hispanic  \\\n",
      "0           0      New Jersey   8904413   18.74950049950049%   \n",
      "1           1      New Mexico   2084117   45.28293172690762%   \n",
      "2           2        New York  19673174  17.241424747786684%   \n",
      "3           3  North Carolina   9845333   8.464762782128062%   \n",
      "4           4    North Dakota    721640   2.832682926829267%   \n",
      "\n",
      "                 White                Black                Native  \\\n",
      "0  56.488761238761285%  14.387862137862117%  0.11533466533466513%   \n",
      "1   40.69799196787147%  1.7550200803212852%    9.248594377510045%   \n",
      "2    56.4701050030883%  15.668046119003515%  0.32163887173152117%   \n",
      "3    64.5976508521419%    21.3951174573929%   1.0854905573468434%   \n",
      "4   87.44829268292683%  1.2843902439024397%    5.651219512195119%   \n",
      "\n",
      "                 Asian                Pacific               Income  \\\n",
      "0   8.159990009990018%  0.031318681318681325%   $76581.08341708542   \n",
      "1    1.23433734939759%   0.04277108433734938%   $47329.96787148595   \n",
      "2  7.8971587399629355%  0.023450689726168417%   $64290.74911292006   \n",
      "3   2.317457392906495%   0.05232611699677568%   $49937.46413697362   \n",
      "4  0.9619512195121945%                    NaN  $58188.112195121954   \n",
      "\n",
      "            GenderPop  \n",
      "0   4343027M_4561386F  \n",
      "1   1032414M_1051703F  \n",
      "2  9541801M_10131373F  \n",
      "3   4795408M_5049925F  \n",
      "4     367963M_353677F  \n"
     ]
    }
   ],
   "source": [
    "print(us_census_DF.head())"
   ]
  },
  {
   "cell_type": "markdown",
   "id": "complete-batch",
   "metadata": {},
   "source": [
    "#### 5. Using regex to turn the Income column into a format that is ready for conversion into a numerical type."
   ]
  },
  {
   "cell_type": "code",
   "execution_count": 6,
   "id": "jewish-grenada",
   "metadata": {},
   "outputs": [
    {
     "name": "stdout",
     "output_type": "stream",
     "text": [
      "float64\n"
     ]
    }
   ],
   "source": [
    "us_census_DF['Income'] = us_census_DF['Income'].replace({'\\$': '', ',': ''}, regex=True).astype(float)\n",
    "print(us_census_DF.Income.dtype)"
   ]
  },
  {
   "cell_type": "markdown",
   "id": "surrounded-sampling",
   "metadata": {},
   "source": [
    "#### 6. Separating GenderPop into two columns Men and Women"
   ]
  },
  {
   "cell_type": "code",
   "execution_count": 7,
   "id": "vocal-nowhere",
   "metadata": {},
   "outputs": [
    {
     "name": "stdout",
     "output_type": "stream",
     "text": [
      "\n",
      "\n",
      "US Census Dataset After Spliting the GenderPOp Column into Men and Women \n",
      "   Unnamed: 0           State  TotalPop             Hispanic  \\\n",
      "0           0      New Jersey   8904413   18.74950049950049%   \n",
      "1           1      New Mexico   2084117   45.28293172690762%   \n",
      "2           2        New York  19673174  17.241424747786684%   \n",
      "3           3  North Carolina   9845333   8.464762782128062%   \n",
      "4           4    North Dakota    721640   2.832682926829267%   \n",
      "\n",
      "                 White                Black                Native  \\\n",
      "0  56.488761238761285%  14.387862137862117%  0.11533466533466513%   \n",
      "1   40.69799196787147%  1.7550200803212852%    9.248594377510045%   \n",
      "2    56.4701050030883%  15.668046119003515%  0.32163887173152117%   \n",
      "3    64.5976508521419%    21.3951174573929%   1.0854905573468434%   \n",
      "4   87.44829268292683%  1.2843902439024397%    5.651219512195119%   \n",
      "\n",
      "                 Asian                Pacific        Income  \\\n",
      "0   8.159990009990018%  0.031318681318681325%  76581.083417   \n",
      "1    1.23433734939759%   0.04277108433734938%  47329.967871   \n",
      "2  7.8971587399629355%  0.023450689726168417%  64290.749113   \n",
      "3   2.317457392906495%   0.05232611699677568%  49937.464137   \n",
      "4  0.9619512195121945%                    NaN  58188.112195   \n",
      "\n",
      "            GenderPop       Men      Women  \n",
      "0   4343027M_4561386F  4343027M   4561386F  \n",
      "1   1032414M_1051703F  1032414M   1051703F  \n",
      "2  9541801M_10131373F  9541801M  10131373F  \n",
      "3   4795408M_5049925F  4795408M   5049925F  \n",
      "4     367963M_353677F   367963M    353677F  \n"
     ]
    }
   ],
   "source": [
    "us_census_DF[['Men','Women']]=us_census_DF.GenderPop.str.split(\"_\",expand=True)\n",
    "\n",
    "print(\"\\n\\nUS Census Dataset After Spliting the GenderPOp Column into Men and Women \\n{}\".format(us_census_DF.head(n=5)))\n"
   ]
  },
  {
   "cell_type": "markdown",
   "id": "brown-albert",
   "metadata": {},
   "source": [
    "### 7. Converting both Men and Women columns into numerical datatypes"
   ]
  },
  {
   "cell_type": "code",
   "execution_count": 8,
   "id": "southeast-barbados",
   "metadata": {},
   "outputs": [
    {
     "name": "stdout",
     "output_type": "stream",
     "text": [
      "\n",
      "After Removing M and F from the Men and Women Columns \n",
      "   Unnamed: 0           State  TotalPop             Hispanic  \\\n",
      "0           0      New Jersey   8904413   18.74950049950049%   \n",
      "1           1      New Mexico   2084117   45.28293172690762%   \n",
      "2           2        New York  19673174  17.241424747786684%   \n",
      "3           3  North Carolina   9845333   8.464762782128062%   \n",
      "4           4    North Dakota    721640   2.832682926829267%   \n",
      "\n",
      "                 White                Black                Native  \\\n",
      "0  56.488761238761285%  14.387862137862117%  0.11533466533466513%   \n",
      "1   40.69799196787147%  1.7550200803212852%    9.248594377510045%   \n",
      "2    56.4701050030883%  15.668046119003515%  0.32163887173152117%   \n",
      "3    64.5976508521419%    21.3951174573929%   1.0854905573468434%   \n",
      "4   87.44829268292683%  1.2843902439024397%    5.651219512195119%   \n",
      "\n",
      "                 Asian                Pacific        Income  \\\n",
      "0   8.159990009990018%  0.031318681318681325%  76581.083417   \n",
      "1    1.23433734939759%   0.04277108433734938%  47329.967871   \n",
      "2  7.8971587399629355%  0.023450689726168417%  64290.749113   \n",
      "3   2.317457392906495%   0.05232611699677568%  49937.464137   \n",
      "4  0.9619512195121945%                    NaN  58188.112195   \n",
      "\n",
      "            GenderPop      Men       Women  \n",
      "0   4343027M_4561386F  4343027   4561386.0  \n",
      "1   1032414M_1051703F  1032414   1051703.0  \n",
      "2  9541801M_10131373F  9541801  10131373.0  \n",
      "3   4795408M_5049925F  4795408   5049925.0  \n",
      "4     367963M_353677F   367963    353677.0  \n",
      "\n",
      "Men Column Data Type  =  int64\n",
      "\n",
      "Women Column Data Type  =   float64\n"
     ]
    }
   ],
   "source": [
    "us_census_DF['Men']=us_census_DF.apply(lambda x: x['Men'].replace('M', ''),axis=1)\n",
    "us_census_DF['Women']=us_census_DF.apply(lambda x: x['Women'].replace('F', ''),axis=1)\n",
    "us_census_DF[['Men','Women']] = us_census_DF[['Men','Women']].apply(pd.to_numeric)\n",
    "print(\"\\nAfter Removing M and F from the Men and Women Columns \\n{}\".format(us_census_DF.head(n=5)))\n",
    "print(\"\\nMen Column Data Type  =  {}\".format(us_census_DF.Men.dtype))\n",
    "print(\"\\nWomen Column Data Type  =   {}\".format(us_census_DF.Women.dtype))"
   ]
  },
  {
   "cell_type": "markdown",
   "id": "demonstrated-tamil",
   "metadata": {},
   "source": [
    "### 8. Using matplotlib to make a scatterplot"
   ]
  },
  {
   "cell_type": "code",
   "execution_count": 9,
   "id": "secure-mechanism",
   "metadata": {},
   "outputs": [
    {
     "data": {
      "image/png": "[encoded data removed]",
      "text/plain": [
       "<Figure size 432x288 with 1 Axes>"
      ]
     },
     "metadata": {
      "needs_background": "light"
     },
     "output_type": "display_data"
    }
   ],
   "source": [
    "plt.scatter(us_census_DF['Income'], us_census_DF['Women'])\n",
    "plt.show()"
   ]
  },
  {
   "cell_type": "markdown",
   "id": "immediate-anaheim",
   "metadata": {},
   "source": [
    "### 9. Filling Women column after NAN with 0"
   ]
  },
  {
   "cell_type": "code",
   "execution_count": 10,
   "id": "coastal-texture",
   "metadata": {},
   "outputs": [
    {
     "name": "stdout",
     "output_type": "stream",
     "text": [
      "\n",
      "\n",
      "Number of women per state \n",
      "                       Women\n",
      "State                      \n",
      "Alabama                   1\n",
      "Alaska                    1\n",
      "Arizona                   1\n",
      "Arkansas                  1\n",
      "California                1\n",
      "Colorado                  2\n",
      "Connecticut               1\n",
      "Delaware                  1\n",
      "District of Columbia      1\n",
      "Florida                   1\n",
      "Georgia                   2\n",
      "Hawaii                    1\n",
      "Idaho                     1\n",
      "Illinois                  1\n",
      "Indiana                   1\n",
      "Iowa                      2\n",
      "Kansas                    1\n",
      "Kentucky                  1\n",
      "Louisiana                 1\n",
      "Maine                     1\n",
      "Maryland                  0\n",
      "Massachusetts             1\n",
      "Michigan                  1\n",
      "Minnesota                 1\n",
      "Mississippi               1\n",
      "Missouri                  2\n",
      "Montana                   0\n",
      "Nebraska                  1\n",
      "Nevada                    1\n",
      "New Hampshire             1\n",
      "New Jersey                2\n",
      "New Mexico                1\n",
      "New York                  1\n",
      "North Carolina            1\n",
      "North Dakota              1\n",
      "Ohio                      2\n",
      "Oklahoma                  1\n",
      "Oregon                    1\n",
      "Pennsylvania              1\n",
      "Puerto Rico               1\n",
      "Rhode Island              2\n",
      "South Carolina            1\n",
      "South Dakota              1\n",
      "Tennessee                 1\n",
      "Texas                     1\n",
      "Utah                      2\n",
      "Vermont                   1\n",
      "Virginia                  1\n",
      "Washington                1\n",
      "West Virginia             1\n",
      "Wisconsin                 1\n",
      "\n",
      "\n",
      "After filling NA with 0 in women column \n",
      "0      4561386.0\n",
      "1      1051703.0\n",
      "2     10131373.0\n",
      "3      5049925.0\n",
      "4       353677.0\n",
      "5      5913084.0\n",
      "6      1558931.0\n",
      "7      1453125.0\n",
      "8      2233145.0\n",
      "9      2364097.0\n",
      "10      679019.0\n",
      "11           0.0\n",
      "12     3081445.0\n",
      "13           0.0\n",
      "14      939759.0\n",
      "15     1390901.0\n",
      "16      670717.0\n",
      "17     4561386.0\n",
      "18     2630239.0\n",
      "19     1841615.0\n",
      "20      478041.0\n",
      "21      340810.0\n",
      "22    10045763.0\n",
      "23     5123362.0\n",
      "24           0.0\n",
      "25     3455936.0\n",
      "26     5038598.0\n",
      "27     2727005.0\n",
      "28     1536358.0\n",
      "29     3081445.0\n",
      "30     5123362.0\n",
      "31      696428.0\n",
      "32      806083.0\n",
      "33     6556862.0\n",
      "34     3333382.0\n",
      "35     1558931.0\n",
      "36     2489527.0\n",
      "37      349215.0\n",
      "38     3342840.0\n",
      "39     1506295.0\n",
      "40    19334329.0\n",
      "41     2630239.0\n",
      "42      543273.0\n",
      "43     2455167.0\n",
      "44      419713.0\n",
      "45     3331859.0\n",
      "46    13367298.0\n",
      "47     1444150.0\n",
      "48     1444150.0\n",
      "49      318031.0\n",
      "50     4195682.0\n",
      "51     3497739.0\n",
      "52      937789.0\n",
      "53     2890732.0\n",
      "54     5913084.0\n",
      "55     1942789.0\n",
      "56     1990780.0\n",
      "57     6534215.0\n",
      "58     1869213.0\n",
      "59      543273.0\n",
      "Name: Women, dtype: float64\n"
     ]
    }
   ],
   "source": [
    "num_Women_per_state=us_census_DF[['State','Women']].groupby('State').count()\n",
    "print(\"\\n\\nNumber of women per state \\n {}\".format(num_Women_per_state))\n",
    "\n",
    "us_census_DF['Women'] = us_census_DF['Women'].fillna(0)\n",
    "print(\"\\n\\nAfter filling NA with 0 in women column \\n{}\".format(us_census_DF['Women'].fillna(0)))"
   ]
  },
  {
   "cell_type": "markdown",
   "id": "governing-mexican",
   "metadata": {},
   "source": [
    "### 10. Checking for Duplicates"
   ]
  },
  {
   "cell_type": "code",
   "execution_count": 11,
   "id": "meaningful-blast",
   "metadata": {},
   "outputs": [
    {
     "name": "stdout",
     "output_type": "stream",
     "text": [
      "\n",
      "\n",
      "Duplicate Rows : \n",
      " Empty DataFrame\n",
      "Columns: [Unnamed: 0, State, TotalPop, Hispanic, White, Black, Native, Asian, Pacific, Income, GenderPop, Men, Women]\n",
      "Index: []\n"
     ]
    }
   ],
   "source": [
    "\n",
    "Dup_Rows = us_census_DF[us_census_DF.duplicated()]\n",
    "\n",
    "print(\"\\n\\nDuplicate Rows : \\n {}\".format(Dup_Rows))"
   ]
  },
  {
   "cell_type": "markdown",
   "id": "connected-freeware",
   "metadata": {},
   "source": [
    "### 11. Droping duplicates BTW as we don't have in our case"
   ]
  },
  {
   "cell_type": "code",
   "execution_count": 12,
   "id": "cubic-warner",
   "metadata": {},
   "outputs": [
    {
     "name": "stdout",
     "output_type": "stream",
     "text": [
      "\n",
      "\n",
      "Result DataFrame after duplicate removal :\n",
      "    Unnamed: 0           State  TotalPop             Hispanic  \\\n",
      "0           0      New Jersey   8904413   18.74950049950049%   \n",
      "1           1      New Mexico   2084117   45.28293172690762%   \n",
      "2           2        New York  19673174  17.241424747786684%   \n",
      "3           3  North Carolina   9845333   8.464762782128062%   \n",
      "4           4    North Dakota    721640   2.832682926829267%   \n",
      "\n",
      "                 White                Black                Native  \\\n",
      "0  56.488761238761285%  14.387862137862117%  0.11533466533466513%   \n",
      "1   40.69799196787147%  1.7550200803212852%    9.248594377510045%   \n",
      "2    56.4701050030883%  15.668046119003515%  0.32163887173152117%   \n",
      "3    64.5976508521419%    21.3951174573929%   1.0854905573468434%   \n",
      "4   87.44829268292683%  1.2843902439024397%    5.651219512195119%   \n",
      "\n",
      "                 Asian                Pacific        Income  \\\n",
      "0   8.159990009990018%  0.031318681318681325%  76581.083417   \n",
      "1    1.23433734939759%   0.04277108433734938%  47329.967871   \n",
      "2  7.8971587399629355%  0.023450689726168417%  64290.749113   \n",
      "3   2.317457392906495%   0.05232611699677568%  49937.464137   \n",
      "4  0.9619512195121945%                    NaN  58188.112195   \n",
      "\n",
      "            GenderPop      Men       Women  \n",
      "0   4343027M_4561386F  4343027   4561386.0  \n",
      "1   1032414M_1051703F  1032414   1051703.0  \n",
      "2  9541801M_10131373F  9541801  10131373.0  \n",
      "3   4795408M_5049925F  4795408   5049925.0  \n",
      "4     367963M_353677F   367963    353677.0  \n"
     ]
    }
   ],
   "source": [
    "us_census_DF_RM_DUP = us_census_DF.drop_duplicates(keep='first')\n",
    "print('\\n\\nResult DataFrame after duplicate removal :\\n', us_census_DF_RM_DUP.head(n=5))"
   ]
  },
  {
   "cell_type": "markdown",
   "id": "proper-token",
   "metadata": {},
   "source": [
    "### 12. Now make a scatterplot again"
   ]
  },
  {
   "cell_type": "code",
   "execution_count": 14,
   "id": "overhead-knock",
   "metadata": {},
   "outputs": [
    {
     "data": {
      "image/png": "[encoded data removed]",
      "text/plain": [
       "<Figure size 432x288 with 1 Axes>"
      ]
     },
     "metadata": {
      "needs_background": "light"
     },
     "output_type": "display_data"
    }
   ],
   "source": [
    "plt.scatter(us_census_DF_RM_DUP['Income'], us_census_DF_RM_DUP['Women'])\n",
    "plt.show()"
   ]
  },
  {
   "cell_type": "markdown",
   "id": "assumed-coral",
   "metadata": {},
   "source": [
    "### 13. Histograms of Races"
   ]
  },
  {
   "cell_type": "code",
   "execution_count": 23,
   "id": "needed-plain",
   "metadata": {},
   "outputs": [
    {
     "name": "stdout",
     "output_type": "stream",
     "text": [
      "\n",
      "\n",
      "Visualizing race columns  \n",
      "Index(['Unnamed: 0', 'State', 'TotalPop', 'Hispanic', 'White', 'Black',\n",
      "       'Native', 'Asian', 'Pacific', 'Income', 'GenderPop', 'Men', 'Women'],\n",
      "      dtype='object')\n"
     ]
    }
   ],
   "source": [
    "print(\"\\n\\nVisualizing race columns  \\n{}\".format(us_census_DF_RM_DUP.columns))"
   ]
  },
  {
   "cell_type": "code",
   "execution_count": 26,
   "id": "rocky-talent",
   "metadata": {},
   "outputs": [
    {
     "data": {
      "image/png": "[encoded data removed]",
      "text/plain": [
       "<Figure size 432x288 with 1 Axes>"
      ]
     },
     "metadata": {
      "needs_background": "light"
     },
     "output_type": "display_data"
    }
   ],
   "source": [
    "# set width of bar\n",
    "barWidth = 0.25\n",
    "mask = (us_census_Races['State'] == 'Delaware')\n",
    "Delaware_DF=us_census_Races[mask]\n",
    "mask = (us_census_Races['State'] == 'Florida')\n",
    "Florida_DF=us_census_Races[mask]\n",
    "\n",
    "bars1=[]\n",
    "State_NameF=''\n",
    "for i in range(len(Florida_DF.columns)):\n",
    "    if i!=0:\n",
    "        bars1.append(Florida_DF.iloc[0,i])\n",
    "    if i==0:\n",
    "        State_NameF=Florida_DF.iloc[0,i]\n",
    "\n",
    "bars2=[]\n",
    "State_NameS=''\n",
    "for i in range(len(Delaware_DF.columns)):\n",
    "    if i!=0:\n",
    "        bars2.append(Delaware_DF.iloc[0,i])\n",
    "    if i==0:\n",
    "        State_NameS=Delaware_DF.iloc[0,i]\n",
    "\n",
    "\n",
    "\n",
    "# Set position of bar on X axis\n",
    "r1 = np.arange(len(bars1))\n",
    "r2 = [x + barWidth for x in r1]\n",
    "r3 = [x + barWidth for x in r2]\n",
    "\n",
    "# Make the plot\n",
    "plt.bar(r1, bars1, color='#0000FF', width=barWidth, edgecolor='red', label=State_NameF)\n",
    "plt.bar(r2, bars2, color='#40D117', width=barWidth, edgecolor='red', label=State_NameS)\n",
    "\n",
    "\n",
    "# Add xticks on the middle of the group bars\n",
    "plt.xlabel('Races Comparison between two states', fontweight='bold')\n",
    "plt.ylabel('Percentage', fontweight='bold')\n",
    "plt.xticks([r + barWidth for r in range(len(bars1))], ['Hispanic', 'White', 'Black','Native' ,'Asian'])\n",
    "plt.title('Races State Comparison Analysis')\n",
    "\n",
    "i = 1.0\n",
    "j = 1\n",
    "k=1.0\n",
    "\n",
    "# Annotating the bar plot with the values (total death count)\n",
    "for i in range(len(bars1)):\n",
    "    plt.annotate(bars1[i], (-0.2 + i, bars1[i] + j))\n",
    "for k in range(len(bars2)):\n",
    "    plt.annotate(bars2[k], (+0.2 + k, bars2[k] + j))\n",
    "\n",
    "\n",
    "# Create legend & Show graphic\n",
    "plt.legend()\n",
    "plt.show()\n"
   ]
  },
  {
   "cell_type": "markdown",
   "id": "velvet-administrator",
   "metadata": {},
   "source": [
    "# PART 2:\n",
    "\n",
    "## LEARN DATA ANALYSIS WITH PANDAS\n",
    "## Petal Power Inventory"
   ]
  },
  {
   "cell_type": "markdown",
   "id": "framed-homeless",
   "metadata": {},
   "source": [
    "### 1. Load the data into a DataFrame called inventory."
   ]
  },
  {
   "cell_type": "code",
   "execution_count": 28,
   "id": "religious-worthy",
   "metadata": {},
   "outputs": [],
   "source": [
    "Inventory=pd.read_csv(\"Dataset/inventory.csv\")"
   ]
  },
  {
   "cell_type": "markdown",
   "id": "earlier-footage",
   "metadata": {},
   "source": [
    "#### 2. Inspect the first 10 rows of inventory."
   ]
  },
  {
   "cell_type": "code",
   "execution_count": 29,
   "id": "funny-premium",
   "metadata": {},
   "outputs": [
    {
     "name": "stdout",
     "output_type": "stream",
     "text": [
      "\n",
      "\n",
      "Inspecting first 10 rows of Inventory dataframe \n",
      "        location  product_type         product_description  quantity  price\n",
      "0  Staten Island         seeds                       daisy         4   6.99\n",
      "1  Staten Island         seeds                  calla lily        46  19.99\n",
      "2  Staten Island         seeds                      tomato        85  13.99\n",
      "3  Staten Island  garden tools                        rake         4  13.99\n",
      "4  Staten Island  garden tools                 wheelbarrow         0  89.99\n",
      "5  Staten Island  garden tools                       spade        93  19.99\n",
      "6  Staten Island  pest_control               insect killer        74  12.99\n",
      "7  Staten Island  pest_control                 weed killer         8  23.99\n",
      "8  Staten Island       planter  20 inch terracotta planter         0  17.99\n",
      "9  Staten Island       planter      8 inch plastic planter        53   3.99\n",
      "(29, 5)\n"
     ]
    }
   ],
   "source": [
    "print(\"\\n\\nInspecting first 10 rows of Inventory dataframe \\n{}\".format(Inventory.head(n=10)))\n",
    "print(Inventory.shape)"
   ]
  },
  {
   "cell_type": "markdown",
   "id": "painted-train",
   "metadata": {},
   "source": [
    "#### 3. first 10 rows represent data from your Staten Island location. Select these rows and save them to staten_island."
   ]
  },
  {
   "cell_type": "code",
   "execution_count": 30,
   "id": "valid-memphis",
   "metadata": {},
   "outputs": [
    {
     "name": "stdout",
     "output_type": "stream",
     "text": [
      "\n",
      "\n",
      "selected staten island location from inventory dataframe\n",
      "        location  product_type product_description  quantity  price\n",
      "0  Staten Island         seeds               daisy         4   6.99\n",
      "1  Staten Island         seeds          calla lily        46  19.99\n",
      "2  Staten Island         seeds              tomato        85  13.99\n",
      "3  Staten Island  garden tools                rake         4  13.99\n",
      "4  Staten Island  garden tools         wheelbarrow         0  89.99\n",
      "(10, 5)\n"
     ]
    }
   ],
   "source": [
    "staten_island=Inventory[Inventory.location == 'Staten Island']\n",
    "print('\\n\\nselected staten island location from inventory dataframe\\n{}'.format(staten_island.head(n=5)))\n",
    "print(staten_island.shape)"
   ]
  },
  {
   "cell_type": "markdown",
   "id": "raising-cement",
   "metadata": {},
   "source": [
    "#### 4. Select all rows where location is equal to Brooklyn and product_type is equal to seeds and save them to the variable seed_request"
   ]
  },
  {
   "cell_type": "code",
   "execution_count": 31,
   "id": "introductory-breath",
   "metadata": {},
   "outputs": [
    {
     "name": "stdout",
     "output_type": "stream",
     "text": [
      "\n",
      "\n",
      "Product description of location staten_island \n",
      "0                         daisy\n",
      "1                    calla lily\n",
      "2                        tomato\n",
      "3                          rake\n",
      "4                   wheelbarrow\n",
      "5                         spade\n",
      "6                 insect killer\n",
      "7                   weed killer\n",
      "8    20 inch terracotta planter\n",
      "9        8 inch plastic planter\n",
      "Name: product_description, dtype: object\n"
     ]
    }
   ],
   "source": [
    "product_request=staten_island['product_description']\n",
    "print(\"\\n\\nProduct description of location staten_island \\n{}\".format(product_request))"
   ]
  },
  {
   "cell_type": "markdown",
   "id": "roman-project",
   "metadata": {},
   "source": [
    "#### 5. Select all rows where location is equal to Brooklyn and product_type is equal to seeds and save them to the variable seed_request"
   ]
  },
  {
   "cell_type": "code",
   "execution_count": 32,
   "id": "patient-while",
   "metadata": {},
   "outputs": [
    {
     "name": "stdout",
     "output_type": "stream",
     "text": [
      "\n",
      "\n",
      "Seed Request from Brooklyn \n",
      "    location product_type product_description  quantity  price\n",
      "10  Brooklyn        seeds               daisy        50   6.99\n",
      "11  Brooklyn        seeds          calla lily         0  19.99\n",
      "12  Brooklyn        seeds              tomato         0  13.99\n"
     ]
    }
   ],
   "source": [
    "mask = (Inventory['location'] == 'Brooklyn') & (Inventory['product_type'] == 'seeds')\n",
    "seed_request=Inventory[mask]\n",
    "print(\"\\n\\nSeed Request from Brooklyn \\n{}\".format(seed_request))"
   ]
  },
  {
   "cell_type": "markdown",
   "id": "amateur-radius",
   "metadata": {},
   "source": [
    "#### 6. Add a column to inventory called in_stock which is True if quantity is greater than 0 and False if quantity equals 0."
   ]
  },
  {
   "cell_type": "code",
   "execution_count": 33,
   "id": "fifth-japanese",
   "metadata": {},
   "outputs": [
    {
     "name": "stdout",
     "output_type": "stream",
     "text": [
      "\n",
      "\n",
      "After Adding in_stock column in Inventory Dataframe \n",
      "         location  product_type product_description  quantity  price  in_stock\n",
      "0  Staten Island         seeds               daisy         4   6.99      True\n",
      "1  Staten Island         seeds          calla lily        46  19.99      True\n",
      "2  Staten Island         seeds              tomato        85  13.99      True\n",
      "3  Staten Island  garden tools                rake         4  13.99      True\n",
      "4  Staten Island  garden tools         wheelbarrow         0  89.99     False\n"
     ]
    }
   ],
   "source": [
    "Inventory['in_stock']=Inventory['quantity'] > 0\n",
    "print(\"\\n\\nAfter Adding in_stock column in Inventory Dataframe \\n {}\".format(Inventory.head(n=5)))"
   ]
  },
  {
   "cell_type": "markdown",
   "id": "accredited-tulsa",
   "metadata": {},
   "source": [
    "####  7. Create a column called total_value that is equal to price multiplied by quantity."
   ]
  },
  {
   "cell_type": "code",
   "execution_count": 34,
   "id": "random-merchandise",
   "metadata": {},
   "outputs": [
    {
     "name": "stdout",
     "output_type": "stream",
     "text": [
      "\n",
      "\n",
      "After Adding total_value column in Inventory Dataframe \n",
      "         location  product_type product_description  quantity  price  in_stock  \\\n",
      "0  Staten Island         seeds               daisy         4   6.99      True   \n",
      "1  Staten Island         seeds          calla lily        46  19.99      True   \n",
      "2  Staten Island         seeds              tomato        85  13.99      True   \n",
      "3  Staten Island  garden tools                rake         4  13.99      True   \n",
      "4  Staten Island  garden tools         wheelbarrow         0  89.99     False   \n",
      "\n",
      "   total_value  \n",
      "0        27.96  \n",
      "1       919.54  \n",
      "2      1189.15  \n",
      "3        55.96  \n",
      "4         0.00  \n"
     ]
    }
   ],
   "source": [
    "Inventory['total_value']=Inventory['price']*Inventory['quantity']\n",
    "print(\"\\n\\nAfter Adding total_value column in Inventory Dataframe \\n {}\".format(Inventory.head(n=5)))"
   ]
  },
  {
   "cell_type": "markdown",
   "id": "judicial-decrease",
   "metadata": {},
   "source": [
    "#### 8. The following lambda function combines product_type and product_description into a single string:\n",
    "\n",
    "combine_lambda = lambda row: \\\n",
    "    '{} - {}'.format(row.product_type,\n",
    "                     row.product_description)\n",
    "Paste this function into script.py."
   ]
  },
  {
   "cell_type": "code",
   "execution_count": 35,
   "id": "placed-startup",
   "metadata": {},
   "outputs": [],
   "source": [
    "combine_lambda = lambda row: \\\n",
    "    '{} - {}'.format(row.product_type,\n",
    "                     row.product_description)"
   ]
  },
  {
   "cell_type": "code",
   "execution_count": null,
   "id": "comparative-galaxy",
   "metadata": {},
   "outputs": [],
   "source": []
  }
 ],
 "metadata": {
  "kernelspec": {
   "display_name": "Python 3",
   "language": "python",
   "name": "python3"
  },
  "language_info": {
   "codemirror_mode": {
    "name": "ipython",
    "version": 3
   },
   "file_extension": ".py",
   "mimetype": "text/x-python",
   "name": "python",
   "nbconvert_exporter": "python",
   "pygments_lexer": "ipython3",
   "version": "3.6.9"
  }
 },
 "nbformat": 4,
 "nbformat_minor": 5
}
